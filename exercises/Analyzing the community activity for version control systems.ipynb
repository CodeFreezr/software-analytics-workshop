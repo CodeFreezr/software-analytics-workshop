{
    "cells": [
        {
            "cell_type": "markdown",
            "metadata": {},
            "source": [
                "# Analyzing the community activity for version control systems"
            ]
        },
        {
            "cell_type": "markdown",
            "metadata": {},
            "source": [
                "## Exercise\n",
                "\n",
                "### Background\n",
                "\n",
                "Technology choices are different. There may be objective reasons for technology at a specific time. But those reasons often change over time. But the developed deep love for an now outdated technology can prevent every progress. Thus objective reasons may become subjective which can create a toxic environment when technology updates are addressed.\n",
                "\n",
                "### Your task\n",
                "\n",
                "You are a new team member in a software company. The developers there are using a version control system (\"VCS\" for short) called CVS (Concurrent Versions System). Some want to migratio to a better VCS. They prefer one that's calles SVN (Subversion). You are young but not inexperienced. So you propose \"Git\" as an alternative to the team. They are very sceptical about your sugesstion. Find facts that shows that the software development community is mainly adopting the Git version control system!\n",
                "\n",
                "### The dataset\n",
                "\n",
                "There is a dataset from the online software developer community Stackoverflow in `../datasets/stackoverflow_vcs_data_subset.gz` (with a subset of columns) available with the following data:\n",
                "\n",
                "* `CreationDate`: the timestamp of the creation date of a Stackoverflow post (= question)\n",
                "* `TagName`: the tag name for a technologie (in our case for only 4 VCS: \"cvs\", \"svn\", \"git\" and \"mercurial\")\n",
                "* `ViewCount`: the numbers of views of a post\n",
                "\n"
            ]
        },
        {
            "cell_type": "markdown",
            "metadata": {},
            "source": [
                "## Your solution"
            ]
        },
        {
            "cell_type": "markdown",
            "metadata": {},
            "source": [
                "### Step 1: Load in the dataset"
            ]
        },
        {
            "cell_type": "code",
            "execution_count": null,
            "metadata": {
                "scrolled": true,
                "tags": [
                    "delete"
                ]
            },
            "outputs": [],
            "source": []
        },
        {
            "cell_type": "markdown",
            "metadata": {},
            "source": [
                "### Step 2: Explore the dataset by displaying the number of all posts for each VCS"
            ]
        },
        {
            "cell_type": "code",
            "execution_count": null,
            "metadata": {
                "scrolled": true,
                "tags": [
                    "delete"
                ]
            },
            "outputs": [],
            "source": []
        },
        {
            "cell_type": "markdown",
            "metadata": {},
            "source": [
                "### Step 3: Convert the column with the time stamp"
            ]
        },
        {
            "cell_type": "code",
            "execution_count": null,
            "metadata": {
                "scrolled": true,
                "tags": [
                    "delete"
                ]
            },
            "outputs": [],
            "source": []
        },
        {
            "cell_type": "markdown",
            "metadata": {},
            "source": [
                "### Step 4: Sum up the view counts by the timestamp and the VCSes"
            ]
        },
        {
            "cell_type": "code",
            "execution_count": null,
            "metadata": {
                "scrolled": true,
                "tags": [
                    "delete"
                ]
            },
            "outputs": [],
            "source": []
        },
        {
            "cell_type": "markdown",
            "metadata": {},
            "source": [
                "### Step 5: List the number of views by date for each VCS\n",
                "Hint: You may unstack and fill in the data (and get rid of the hierarchical column)"
            ]
        },
        {
            "cell_type": "code",
            "execution_count": null,
            "metadata": {
                "scrolled": true,
                "tags": [
                    "delete"
                ]
            },
            "outputs": [],
            "source": []
        },
        {
            "cell_type": "markdown",
            "metadata": {},
            "source": [
                "### Step 6: Accumulate the number of views for the VCSes for every month over all the years\n",
                "Hint: First, you have to resample the data and summing it up"
            ]
        },
        {
            "cell_type": "code",
            "execution_count": null,
            "metadata": {
                "scrolled": true,
                "tags": [
                    "delete"
                ]
            },
            "outputs": [],
            "source": []
        },
        {
            "cell_type": "markdown",
            "metadata": {},
            "source": [
                "### Step 7: Visualize the number of views over time for all VCSes"
            ]
        },
        {
            "cell_type": "code",
            "execution_count": null,
            "metadata": {
                "tags": [
                    "delete"
                ]
            },
            "outputs": [],
            "source": []
        },
        {
            "cell_type": "markdown",
            "metadata": {},
            "source": [
                "### Step 8: What are your conclusions? Discuss!"
            ]
        }
    ],
    "metadata": {
        "kernelspec": {
            "display_name": "Python 3",
            "language": "python",
            "name": "python3"
        },
        "language_info": {
            "codemirror_mode": {
                "name": "ipython",
                "version": 3
            },
            "file_extension": ".py",
            "mimetype": "text/x-python",
            "name": "python",
            "nbconvert_exporter": "python",
            "pygments_lexer": "ipython3",
            "version": "3.6.0"
        }
    },
    "nbformat": 4,
    "nbformat_minor": 2
}