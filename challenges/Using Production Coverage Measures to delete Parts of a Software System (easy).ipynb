{
 "cells": [
  {
   "cell_type": "markdown",
   "metadata": {},
   "source": [
    "# Using Production Coverage Measures to delete Parts of a Software System"
   ]
  },
  {
   "cell_type": "markdown",
   "metadata": {},
   "source": [
    "## Challenge\n",
    "\n",
    "_Level: Easy_\n",
    "\n",
    "### Background\n",
    "\n",
    "Developers of the Java application \"Spring PetClinic\" said, that there would be much code that isn't used at all. \n",
    "\n",
    "### Your Task\n",
    "\n",
    "Before migrating the application to the new platform, an analysis should find out, which parts of the system are still in use and which are not (and may be deleted safely).\n",
    "\n",
    "\n",
    "### Your Approach?\n",
    "\n",
    "Write down your approach in the Software Analytics Canvas!"
   ]
  },
  {
   "cell_type": "markdown",
   "metadata": {},
   "source": [
    "<div style=\"margin-top:50px;margin-bottom:1000px;\">\n",
    "    <i><b>Clueless? Scroll down to see a dataset that could help you!</b></i>\n",
    "</div>"
   ]
  },
  {
   "cell_type": "markdown",
   "metadata": {},
   "source": [
    "## The Dataset\n",
    "\n",
    "To understand how much code isn't used, we recorded the executed code in production with the coverage tool [JaCoCo](http://www.jacoco.org/). The measurement took place between 21st Oct 2017 and 27st Oct 2017. The results were exported into a CSV file using the JaCoCo command line tool with the following command:\n",
    "\n",
    "```bash\n",
    "java -jar jacococli.jar report \"C:\\Temp\\jacoco.exec\" --classfiles \\\n",
    "C:\\dev\\repos\\spring-petclinic\\target\\classes --csv jacoco.csv\n",
    "```\n",
    "\n",
    "The CSV file `../datasets/jacoco_production_measure.gz` contains all lines of code that were passed through during the measurement's time span. It shows a subset of the dataset created above with just the relevant coluns:\n",
    "\n",
    "* `PACKAGE`: The package name of the Java source code file\n",
    "* `CLASS`: The name of the Java class\n",
    "* `LINE_COVERED`: The number of lines that were executed\n",
    "* `LINE_MISSED`: The number of lines that weren't executed\n",
    "\n",
    "Here you can find the first 10 entries from the dataset (with the columns from above:\n",
    "\n",
    "<p>\n",
    "<small>\n",
    "<code>PACKAGE,CLASS,LINE_MISSED,LINE_COVERED\n",
    "org.springframework.samples.petclinic,PetclinicInitializer,0,24\n",
    "org.springframework.samples.petclinic.model,NamedEntity,1,4\n",
    "org.springframework.samples.petclinic.model,Specialty,0,1\n",
    "org.springframework.samples.petclinic.model,PetType,0,1\n",
    "org.springframework.samples.petclinic.model,Vets,4,0\n",
    "org.springframework.samples.petclinic.model,Visit,0,12\n",
    "org.springframework.samples.petclinic.model,BaseEntity,0,5\n",
    "org.springframework.samples.petclinic.model,Person,0,7\n",
    "org.springframework.samples.petclinic.model,Owner,14,26\n",
    "</code>\n",
    "</small>\n",
    "</p>"
   ]
  },
  {
   "cell_type": "markdown",
   "metadata": {},
   "source": [
    "<div style=\"margin-top:50px;margin-bottom:500px;\">\n",
    "    <i><b>Clueless how to start? Scroll down to see some hints!</b></i>\n",
    "</div>"
   ]
  },
  {
   "cell_type": "markdown",
   "metadata": {},
   "source": [
    "Hint 1: You need to add an additional `LINES` column to be able to calculate the ratio between covered and missed lines later on.  \n",
    "Hint 2: It was stated that mayby whole packages wouldn't be needed anymore and that they could be safely removed. "
   ]
  }
 ],
 "metadata": {
  "celltoolbar": "Tags",
  "hide_input": false,
  "kernelspec": {
   "display_name": "Python 3",
   "language": "python",
   "name": "python3"
  },
  "language_info": {
   "codemirror_mode": {
    "name": "ipython",
    "version": 3
   },
   "file_extension": ".py",
   "mimetype": "text/x-python",
   "name": "python",
   "nbconvert_exporter": "python",
   "pygments_lexer": "ipython3",
   "version": "3.6.4"
  },
  "toc": {
   "nav_menu": {},
   "number_sections": true,
   "sideBar": true,
   "skip_h1_title": false,
   "toc_cell": false,
   "toc_position": {},
   "toc_section_display": "block",
   "toc_window_display": false
  }
 },
 "nbformat": 4,
 "nbformat_minor": 2
}
